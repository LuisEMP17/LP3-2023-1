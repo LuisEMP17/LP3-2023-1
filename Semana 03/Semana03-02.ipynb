{
 "cells": [
  {
   "cell_type": "markdown",
   "id": "f456572c",
   "metadata": {},
   "source": [
    "# Semana03¶\n",
    "Luis Enrrique Montes Palacios"
   ]
  },
  {
   "cell_type": "raw",
   "id": "77f4c1f6",
   "metadata": {},
   "source": [
    "Temas:\n",
    "    1. Numeros\n",
    "    2. Variables\n",
    "    3. Manejo de cadenas\n",
    "    4. Ingreso de datos por teclado\n",
    "    5. Operadores"
   ]
  },
  {
   "cell_type": "markdown",
   "id": "10e8f183",
   "metadata": {},
   "source": [
    "2. Variables"
   ]
  },
  {
   "cell_type": "code",
   "execution_count": 1,
   "id": "9c7bbec3",
   "metadata": {},
   "outputs": [],
   "source": [
    "#Siemore debem iniciar con una letra o un gion abajo. (Nunca con un numero u otro simbolo)"
   ]
  },
  {
   "cell_type": "code",
   "execution_count": 2,
   "id": "b99e0937",
   "metadata": {},
   "outputs": [],
   "source": [
    "edad = 19"
   ]
  },
  {
   "cell_type": "code",
   "execution_count": 3,
   "id": "793877e2",
   "metadata": {},
   "outputs": [
    {
     "data": {
      "text/plain": [
       "19"
      ]
     },
     "execution_count": 3,
     "metadata": {},
     "output_type": "execute_result"
    }
   ],
   "source": [
    "edad"
   ]
  },
  {
   "cell_type": "code",
   "execution_count": 16,
   "id": "dd4c0adb",
   "metadata": {},
   "outputs": [],
   "source": [
    "nombre = \"luis\""
   ]
  },
  {
   "cell_type": "code",
   "execution_count": 17,
   "id": "3f74a1b8",
   "metadata": {},
   "outputs": [
    {
     "data": {
      "text/plain": [
       "'luis'"
      ]
     },
     "execution_count": 17,
     "metadata": {},
     "output_type": "execute_result"
    }
   ],
   "source": [
    "nombre"
   ]
  },
  {
   "cell_type": "code",
   "execution_count": 10,
   "id": "0a151eec",
   "metadata": {},
   "outputs": [],
   "source": [
    "apellido = \" montes palacios\""
   ]
  },
  {
   "cell_type": "code",
   "execution_count": 7,
   "id": "2afaee9d",
   "metadata": {},
   "outputs": [
    {
     "data": {
      "text/plain": [
       "'montes palacios'"
      ]
     },
     "execution_count": 7,
     "metadata": {},
     "output_type": "execute_result"
    }
   ],
   "source": [
    "apellido"
   ]
  },
  {
   "cell_type": "code",
   "execution_count": 18,
   "id": "55638567",
   "metadata": {},
   "outputs": [],
   "source": [
    "nombrecompleto = nombre + apellido"
   ]
  },
  {
   "cell_type": "code",
   "execution_count": 19,
   "id": "e48c4b95",
   "metadata": {},
   "outputs": [
    {
     "data": {
      "text/plain": [
       "'luis montes palacios'"
      ]
     },
     "execution_count": 19,
     "metadata": {},
     "output_type": "execute_result"
    }
   ],
   "source": [
    "nombrecompleto"
   ]
  },
  {
   "cell_type": "code",
   "execution_count": 21,
   "id": "05ed7a9c",
   "metadata": {},
   "outputs": [
    {
     "data": {
      "text/plain": [
       "int"
      ]
     },
     "execution_count": 21,
     "metadata": {},
     "output_type": "execute_result"
    }
   ],
   "source": [
    "numero = 50\n",
    "type(numero)"
   ]
  },
  {
   "cell_type": "code",
   "execution_count": 22,
   "id": "e7e25353",
   "metadata": {},
   "outputs": [
    {
     "data": {
      "text/plain": [
       "str"
      ]
     },
     "execution_count": 22,
     "metadata": {},
     "output_type": "execute_result"
    }
   ],
   "source": [
    "type(nombrecompleto)"
   ]
  },
  {
   "cell_type": "code",
   "execution_count": 23,
   "id": "fd56d37f",
   "metadata": {},
   "outputs": [
    {
     "data": {
      "text/plain": [
       "str"
      ]
     },
     "execution_count": 23,
     "metadata": {},
     "output_type": "execute_result"
    }
   ],
   "source": [
    "type(nombre)"
   ]
  },
  {
   "cell_type": "code",
   "execution_count": 24,
   "id": "5bf69755",
   "metadata": {},
   "outputs": [],
   "source": [
    "talla = 1.62"
   ]
  },
  {
   "cell_type": "code",
   "execution_count": 25,
   "id": "dc0d0755",
   "metadata": {},
   "outputs": [
    {
     "data": {
      "text/plain": [
       "float"
      ]
     },
     "execution_count": 25,
     "metadata": {},
     "output_type": "execute_result"
    }
   ],
   "source": [
    "type(talla)"
   ]
  },
  {
   "cell_type": "code",
   "execution_count": 26,
   "id": "0c35d4e3",
   "metadata": {},
   "outputs": [],
   "source": [
    "#Para convertir un numero en cadena utilizamos str()"
   ]
  },
  {
   "cell_type": "code",
   "execution_count": 27,
   "id": "b8121f9a",
   "metadata": {},
   "outputs": [],
   "source": [
    "numero = 100\n",
    "cadena = str(numero)"
   ]
  },
  {
   "cell_type": "code",
   "execution_count": 28,
   "id": "3a6cc180",
   "metadata": {},
   "outputs": [
    {
     "data": {
      "text/plain": [
       "int"
      ]
     },
     "execution_count": 28,
     "metadata": {},
     "output_type": "execute_result"
    }
   ],
   "source": [
    "type(numero)"
   ]
  },
  {
   "cell_type": "code",
   "execution_count": 29,
   "id": "2b393d9f",
   "metadata": {},
   "outputs": [
    {
     "data": {
      "text/plain": [
       "'100'"
      ]
     },
     "execution_count": 29,
     "metadata": {},
     "output_type": "execute_result"
    }
   ],
   "source": [
    "cadena"
   ]
  },
  {
   "cell_type": "code",
   "execution_count": 30,
   "id": "57a32e3b",
   "metadata": {},
   "outputs": [
    {
     "data": {
      "text/plain": [
       "str"
      ]
     },
     "execution_count": 30,
     "metadata": {},
     "output_type": "execute_result"
    }
   ],
   "source": [
    "type(cadena)"
   ]
  },
  {
   "cell_type": "code",
   "execution_count": 31,
   "id": "f4ba2b16",
   "metadata": {},
   "outputs": [],
   "source": [
    "cadena2 = \"50\"\n",
    "numero2 = int(cadena2)"
   ]
  },
  {
   "cell_type": "code",
   "execution_count": 32,
   "id": "177b4900",
   "metadata": {},
   "outputs": [
    {
     "data": {
      "text/plain": [
       "50"
      ]
     },
     "execution_count": 32,
     "metadata": {},
     "output_type": "execute_result"
    }
   ],
   "source": [
    "numero2"
   ]
  },
  {
   "cell_type": "code",
   "execution_count": 33,
   "id": "10f2f079",
   "metadata": {},
   "outputs": [
    {
     "data": {
      "text/plain": [
       "int"
      ]
     },
     "execution_count": 33,
     "metadata": {},
     "output_type": "execute_result"
    }
   ],
   "source": [
    "type(numero2)"
   ]
  },
  {
   "cell_type": "code",
   "execution_count": 34,
   "id": "fafcc0cb",
   "metadata": {},
   "outputs": [
    {
     "data": {
      "text/plain": [
       "'50'"
      ]
     },
     "execution_count": 34,
     "metadata": {},
     "output_type": "execute_result"
    }
   ],
   "source": [
    "cadena2 =\"50\"\n",
    "numero2 = float(cadena2)\n",
    "cadena2"
   ]
  },
  {
   "cell_type": "code",
   "execution_count": 35,
   "id": "ccebcad2",
   "metadata": {},
   "outputs": [
    {
     "data": {
      "text/plain": [
       "float"
      ]
     },
     "execution_count": 35,
     "metadata": {},
     "output_type": "execute_result"
    }
   ],
   "source": [
    "type(numero2)"
   ]
  },
  {
   "cell_type": "code",
   "execution_count": null,
   "id": "0afc8da5",
   "metadata": {},
   "outputs": [],
   "source": []
  }
 ],
 "metadata": {
  "kernelspec": {
   "display_name": "Python 3 (ipykernel)",
   "language": "python",
   "name": "python3"
  },
  "language_info": {
   "codemirror_mode": {
    "name": "ipython",
    "version": 3
   },
   "file_extension": ".py",
   "mimetype": "text/x-python",
   "name": "python",
   "nbconvert_exporter": "python",
   "pygments_lexer": "ipython3",
   "version": "3.9.12"
  }
 },
 "nbformat": 4,
 "nbformat_minor": 5
}
